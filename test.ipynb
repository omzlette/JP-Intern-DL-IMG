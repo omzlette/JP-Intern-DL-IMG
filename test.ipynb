{
 "cells": [
  {
   "cell_type": "code",
   "execution_count": 8,
   "metadata": {},
   "outputs": [],
   "source": [
    "from tqdm.auto import tqdm, trange\n",
    "from time import sleep\n",
    "import sys"
   ]
  },
  {
   "cell_type": "code",
   "execution_count": 18,
   "metadata": {},
   "outputs": [
    {
     "data": {
      "application/vnd.jupyter.widget-view+json": {
       "model_id": "0d9def39aa9048688bd70131b3494846",
       "version_major": 2,
       "version_minor": 0
      },
      "text/plain": [
       "ConvNeXt Model -> |          | 0/20 [Time Elapsed: 00:00/?,?epoch/s]"
      ]
     },
     "metadata": {},
     "output_type": "display_data"
    },
    {
     "data": {
      "application/vnd.jupyter.widget-view+json": {
       "model_id": "400b4c5747ea4b0fb2143aa8953101d0",
       "version_major": 2,
       "version_minor": 0
      },
      "text/plain": [
       "Epoch 1 ->:   0%|          | 0/20 [00:00<?, ?batch/s]"
      ]
     },
     "metadata": {},
     "output_type": "display_data"
    },
    {
     "data": {
      "application/vnd.jupyter.widget-view+json": {
       "model_id": "92371c9c45b243baaa37b0747796c6bf",
       "version_major": 2,
       "version_minor": 0
      },
      "text/plain": [
       "Epoch 2 ->:   0%|          | 0/20 [00:00<?, ?batch/s]"
      ]
     },
     "metadata": {},
     "output_type": "display_data"
    },
    {
     "ename": "KeyboardInterrupt",
     "evalue": "",
     "output_type": "error",
     "traceback": [
      "\u001b[1;31m---------------------------------------------------------------------------\u001b[0m",
      "\u001b[1;31mKeyboardInterrupt\u001b[0m                         Traceback (most recent call last)",
      "Cell \u001b[1;32mIn[18], line 10\u001b[0m\n\u001b[0;32m      8\u001b[0m sleep(\u001b[39m0.1\u001b[39m)\n\u001b[0;32m      9\u001b[0m \u001b[39mfor\u001b[39;00m batch \u001b[39min\u001b[39;00m trange(num_batches, desc\u001b[39m=\u001b[39m\u001b[39mf\u001b[39m\u001b[39m\"\u001b[39m\u001b[39mEpoch \u001b[39m\u001b[39m{\u001b[39;00mepoch\u001b[39m+\u001b[39m\u001b[39m1\u001b[39m\u001b[39m}\u001b[39;00m\u001b[39m ->\u001b[39m\u001b[39m\"\u001b[39m, unit\u001b[39m=\u001b[39m\u001b[39m\"\u001b[39m\u001b[39mbatch\u001b[39m\u001b[39m\"\u001b[39m):\n\u001b[1;32m---> 10\u001b[0m     sleep(\u001b[39m0.1\u001b[39;49m)\n\u001b[0;32m     11\u001b[0m pbar\u001b[39m.\u001b[39mupdate()\n\u001b[0;32m     12\u001b[0m \u001b[39m# tqdm.write(f\"Epoch: {epoch+1}/{num_epochs} | Batch: {batch+1}/{num_batches}\")\u001b[39;00m\n\u001b[0;32m     13\u001b[0m \u001b[39m# pbar.set_description(f\"ConvNeXt Model -> Epoch: {epoch+1}/{num_epochs}\")\u001b[39;00m\n",
      "\u001b[1;31mKeyboardInterrupt\u001b[0m: "
     ]
    }
   ],
   "source": [
    "num_epochs = 20\n",
    "num_batches = 20\n",
    "\n",
    "bar_format = \"{desc} |{bar}| {n_fmt}/{total_fmt} [Time Elapsed: {elapsed}/{remaining},{rate_fmt}]\"\n",
    "\n",
    "with tqdm(total=num_batches, desc=f\"ConvNeXt Model ->\", unit=\"epoch\", bar_format=bar_format, disable=not True) as pbar:\n",
    "    for epoch in range(num_epochs):\n",
    "        sleep(0.1)\n",
    "        for batch in trange(num_batches, desc=f\"Epoch {epoch+1} ->\", unit=\"batch\"):\n",
    "            sleep(0.1)\n",
    "        pbar.update()\n",
    "        # tqdm.write(f\"Epoch: {epoch+1}/{num_epochs} | Batch: {batch+1}/{num_batches}\")\n",
    "        # pbar.set_description(f\"ConvNeXt Model -> Epoch: {epoch+1}/{num_epochs}\")"
   ]
  },
  {
   "cell_type": "code",
   "execution_count": 20,
   "metadata": {},
   "outputs": [
    {
     "name": "stdout",
     "output_type": "stream",
     "text": [
      "['baz']\n"
     ]
    }
   ],
   "source": [
    "def foo(bar:list=[]) -> list:\n",
    "    bar.append(\"baz\")\n",
    "    return bar\n",
    "\n",
    "print(foo())"
   ]
  },
  {
   "cell_type": "code",
   "execution_count": null,
   "metadata": {},
   "outputs": [],
   "source": [
    "from time import sleep\n",
    "\n",
    "import contextlib\n",
    "import sys\n",
    "\n",
    "from tqdm import tqdm\n",
    "\n",
    "class DummyFile(object):\n",
    "  file = None\n",
    "  def __init__(self, file):\n",
    "    self.file = file\n",
    "\n",
    "  def write(self, x):\n",
    "    # Avoid print() second call (useless \\n)\n",
    "    if len(x.rstrip()) > 0:\n",
    "        tqdm.write(x, file=self.file)\n",
    "\n",
    "@contextlib.contextmanager\n",
    "def nostdout():\n",
    "    save_stdout = sys.stdout\n",
    "    sys.stdout = DummyFile(sys.stdout)\n",
    "    yield\n",
    "    sys.stdout = save_stdout\n",
    "\n",
    "def blabla():\n",
    "  print(\"Foo blabla\")\n",
    "\n",
    "# tqdm call to sys.stdout must be done BEFORE stdout redirection\n",
    "# and you need to specify sys.stdout, not sys.stderr (default)\n",
    "for _ in tqdm(range(3), file=sys.stdout, dynamic_ncols=True):\n",
    "    with nostdout():\n",
    "        blabla()\n",
    "        sleep(.5)\n",
    "\n",
    "# print('Done!')"
   ]
  },
  {
   "cell_type": "code",
   "execution_count": null,
   "metadata": {},
   "outputs": [],
   "source": [
    "from tqdm.auto import tqdm, trange\n",
    "from time import sleep\n",
    "\n",
    "for i in trange(10, desc='Traning Model on 10 Epochs'):\n",
    "    sleep(0.01)\n",
    "    for x in trange(100, desc=f'Epoch {i}'):\n",
    "        sleep(0.0001)"
   ]
  }
 ],
 "metadata": {
  "kernelspec": {
   "display_name": "dl-env",
   "language": "python",
   "name": "python3"
  },
  "language_info": {
   "codemirror_mode": {
    "name": "ipython",
    "version": 3
   },
   "file_extension": ".py",
   "mimetype": "text/x-python",
   "name": "python",
   "nbconvert_exporter": "python",
   "pygments_lexer": "ipython3",
   "version": "3.8.16"
  },
  "orig_nbformat": 4
 },
 "nbformat": 4,
 "nbformat_minor": 2
}
